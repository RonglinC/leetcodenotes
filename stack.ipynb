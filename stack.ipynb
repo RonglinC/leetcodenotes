{
 "cells": [
  {
   "cell_type": "code",
   "execution_count": null,
   "id": "b8744438-0fee-4eae-b4a7-eaab86b311fd",
   "metadata": {},
   "outputs": [],
   "source": [
    "stack is useful for creating reverse iterators .\n",
    "# use stack to print the entries of a singly-linked list in reverse order"
   ]
  },
  {
   "cell_type": "code",
   "execution_count": null,
   "id": "2a0f61e6-1576-4000-8b0e-4ea448bcebe4",
   "metadata": {},
   "outputs": [],
   "source": [
    "def print(head:ListNode)->None:\n",
    "    nodes =[]\n",
    "    while head:\n",
    "        nodes.append(head.data)\n",
    "        head = head.next\n",
    "    while nodes:\n",
    "        print(nodes.pop())\n",
    "Time:O(N)"
   ]
  },
  {
   "cell_type": "markdown",
   "id": "f4490a9f-342d-4a6a-ad86-701cafeb9fb3",
   "metadata": {},
   "source": [
    "use python build-in list-type for stack:\n",
    "1.s.append(e) pushed to stack\n",
    "s[-1]: retrieve, does not remove, the element at the top of the stack\n",
    "s.pop():remove and return the element from top of the stack\n",
    "len(s) == 0: test if stack is empty\n",
    "\n"
   ]
  },
  {
   "cell_type": "code",
   "execution_count": null,
   "id": "ad78847e-cb65-4c05-b03f-b7d199d459d9",
   "metadata": {},
   "outputs": [],
   "source": [
    "leetcode 150"
   ]
  },
  {
   "cell_type": "code",
   "execution_count": 2,
   "id": "c0c7b146-368c-4057-a17c-7f139340be89",
   "metadata": {},
   "outputs": [
    {
     "name": "stdout",
     "output_type": "stream",
     "text": [
      "Result: 15\n"
     ]
    }
   ],
   "source": [
    "def evaluate(expression: str) -> int:\n",
    "    intermediate_results: List[int] = []\n",
    "    delimiter = ','\n",
    "    # associate operator with lambda function defines how operator should applied to two operands\n",
    "    # x and y are two operands, perfrom the operation on them\n",
    "    operators = {\n",
    "        '+': lambda y, x: x + y,\n",
    "        '-': lambda y, x: x - y,\n",
    "        '*': lambda y, x: x * y,\n",
    "        '/': lambda y, x: x // y\n",
    "    }\n",
    "\n",
    "    #token can be number of operand\n",
    "    for token in expression.split(delimiter):\n",
    "        if token in operators:\n",
    "            # pop two number and push the result back to stack\n",
    "            intermediate_results.append(operators[token](\n",
    "                intermediate_results.pop(), intermediate_results.pop()))\n",
    "        else:  # token is a number.\n",
    "            intermediate_results.append(int(token))\n",
    "    # final result is on the top of the stack\n",
    "    return intermediate_results[-1]\n",
    "\n",
    "rpn_expression = \"3,4,+,2,*,1,+\"\n",
    "result = evaluate(rpn_expression)\n",
    "print(\"Result:\", result)  # Output should be 15"
   ]
  },
  {
   "cell_type": "code",
   "execution_count": null,
   "id": "9e2f4629-ab08-4bc1-a808-bc83aae740a5",
   "metadata": {},
   "outputs": [],
   "source": []
  }
 ],
 "metadata": {
  "kernelspec": {
   "display_name": "Python 3 (ipykernel)",
   "language": "python",
   "name": "python3"
  },
  "language_info": {
   "codemirror_mode": {
    "name": "ipython",
    "version": 3
   },
   "file_extension": ".py",
   "mimetype": "text/x-python",
   "name": "python",
   "nbconvert_exporter": "python",
   "pygments_lexer": "ipython3",
   "version": "3.8.17"
  }
 },
 "nbformat": 4,
 "nbformat_minor": 5
}
