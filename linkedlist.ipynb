{
 "cells": [
  {
   "cell_type": "markdown",
   "id": "ff376406-eaaa-4b4d-b5f6-94720d6adbc7",
   "metadata": {},
   "source": [
    "Test whether a linked list has cycle is exist iff we visit the node already in the hash table.If no cycle exists, the search ends at the tail.\n",
    "\n",
    "use slow and fast iterator to traverse the list.move slow itertor by one and fast iterator by2\n",
    "the list has cycle iff two iterator meet\n"
   ]
  },
  {
   "cell_type": "code",
   "execution_count": null,
   "id": "41b2ebb3-8132-4b57-897b-43ef04a171ed",
   "metadata": {},
   "outputs": [],
   "source": [
    "leetcode 141\n",
    "\n",
    "\n"
   ]
  },
  {
   "cell_type": "markdown",
   "id": "c1cf6d1f-2b6f-4f71-a073-cd46083971dc",
   "metadata": {},
   "source": [
    "Test for overlapping Lists- lists are cycle free \n",
    "the lists overlap iff both have the same tail node:\n",
    "once the lists converge at a node, they cannot diverge at a later node.\n",
    "\n",
    "leetcode 160"
   ]
  },
  {
   "cell_type": "code",
   "execution_count": null,
   "id": "2c2596a8-0eba-4162-98a3-484469acf40a",
   "metadata": {},
   "outputs": [],
   "source": [
    "def overlapping_no_cycle_lists(l0: ListNode, l1: ListNode) -> ListNode:\n",
    "    def length(L):\n",
    "        length = 0\n",
    "        while L:\n",
    "            length += 1\n",
    "            L = L.next\n",
    "        return length\n",
    "\n",
    "    l0_len, l1_len = length(l0), length(l1)\n",
    "    if l0_len > l1_len:\n",
    "        l0, l1 = l1, l0  # l1 is the longer list\n",
    "    # Advances the longer list to get equal length lists.\n",
    "    #move forawrd the longer list , now l1 and l0 has same node to traverse\n",
    "    for _ in range(abs(l0_len - l1_len)):\n",
    "        l1 = l1.next\n",
    "    \n",
    "    while l0 and l1 and l0 is not l1:\n",
    "        l0, l1 = l0.next, l1.next\n",
    "    return l0  # first common node， otherwise return none\n"
   ]
  }
 ],
 "metadata": {
  "kernelspec": {
   "display_name": "Python 3 (ipykernel)",
   "language": "python",
   "name": "python3"
  },
  "language_info": {
   "codemirror_mode": {
    "name": "ipython",
    "version": 3
   },
   "file_extension": ".py",
   "mimetype": "text/x-python",
   "name": "python",
   "nbconvert_exporter": "python",
   "pygments_lexer": "ipython3",
   "version": "3.8.17"
  }
 },
 "nbformat": 4,
 "nbformat_minor": 5
}
