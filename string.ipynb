{
 "cells": [
  {
   "cell_type": "markdown",
   "id": "6514ec62-2f29-490f-90ee-1581f8914eba",
   "metadata": {},
   "source": [
    "reverse all the words in a sentence\n",
    "leetcode problem 151"
   ]
  },
  {
   "cell_type": "code",
   "execution_count": 6,
   "id": "9746707f-fb23-4bd1-8537-b94880a43af5",
   "metadata": {},
   "outputs": [
    {
     "name": "stdout",
     "output_type": "stream",
     "text": [
      "Original list: ['r', 'a', 'm', ' ', 'i', 's', ' ', 'c', 'o', 's', 't', 'l', 'y']\n",
      "After reversing entire list: ['y', 'l', 't', 's', 'o', 'c', ' ', 's', 'i', ' ', 'm', 'a', 'r']\n",
      "After reversing word from index 0 to 5: ['c', 'o', 's', 't', 'l', 'y', ' ', 's', 'i', ' ', 'm', 'a', 'r']\n",
      "After reversing word from index 7 to 8: ['c', 'o', 's', 't', 'l', 'y', ' ', 'i', 's', ' ', 'm', 'a', 'r']\n",
      "Final reversed word list: ['c', 'o', 's', 't', 'l', 'y', ' ', 'i', 's', ' ', 'r', 'a', 'm']\n"
     ]
    }
   ],
   "source": [
    "# assurme s is a list of strings, each is of length1\n",
    "\n",
    "# Assume s is a list of strings, each of which is of length 1, e.g.,\n",
    "# ['r', 'a', 'm', ' ', 'i', 's', ' ', 'c', 'o', 's', 't', 'l', 'y'].\n",
    "def reverse_words(s):\n",
    "    def reverse_range(s, start, end):\n",
    "        while start < end:\n",
    "            s[start], s[end] = s[end], s[start]\n",
    "            start += 1\n",
    "            end -= 1\n",
    "\n",
    "    print(\"Original list:\", s)\n",
    "\n",
    "    reverse_range(s, 0, len(s)-1)\n",
    "    print(\"After reversing entire list:\", s)\n",
    "\n",
    "    start = 0\n",
    "    while True:\n",
    "        end = start\n",
    "        while end < len(s) and s[end] != ' ':\n",
    "            end += 1\n",
    "        if end == len(s):\n",
    "            break\n",
    "        reverse_range(s, start, end-1)\n",
    "        print(f\"After reversing word from index {start} to {end-1}:\", s)\n",
    "        start = end + 1\n",
    "\n",
    "    reverse_range(s, start, len(s)-1)\n",
    "    print(\"Final reversed word list:\", s)\n",
    "\n",
    "    return\n",
    "\n",
    "s = ['r', 'a', 'm', ' ', 'i', 's', ' ', 'c', 'o', 's', 't', 'l', 'y']\n",
    "reverse_words(s)\n",
    "\n"
   ]
  },
  {
   "cell_type": "code",
   "execution_count": null,
   "id": "03f99154-a185-42b0-8350-8b767267b696",
   "metadata": {},
   "outputs": [],
   "source": []
  }
 ],
 "metadata": {
  "kernelspec": {
   "display_name": "Python 3 (ipykernel)",
   "language": "python",
   "name": "python3"
  },
  "language_info": {
   "codemirror_mode": {
    "name": "ipython",
    "version": 3
   },
   "file_extension": ".py",
   "mimetype": "text/x-python",
   "name": "python",
   "nbconvert_exporter": "python",
   "pygments_lexer": "ipython3",
   "version": "3.8.17"
  }
 },
 "nbformat": 4,
 "nbformat_minor": 5
}
